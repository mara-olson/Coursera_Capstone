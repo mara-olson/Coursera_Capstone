{
 "cells": [
  {
   "cell_type": "code",
   "execution_count": 1,
   "metadata": {},
   "outputs": [],
   "source": [
    "import pandas as pd\n",
    "import numpy as np\n",
    "import pylab as pl\n",
    "import scipy.optimize as opt\n",
    "from sklearn import preprocessing\n",
    "from sklearn.preprocessing import OneHotEncoder\n",
    "from sklearn.linear_model import LinearRegression\n",
    "from sklearn.metrics import confusion_matrix"
   ]
  },
  {
   "cell_type": "code",
   "execution_count": 2,
   "metadata": {},
   "outputs": [
    {
     "data": {
      "text/html": [
       "<div>\n",
       "<style scoped>\n",
       "    .dataframe tbody tr th:only-of-type {\n",
       "        vertical-align: middle;\n",
       "    }\n",
       "\n",
       "    .dataframe tbody tr th {\n",
       "        vertical-align: top;\n",
       "    }\n",
       "\n",
       "    .dataframe thead th {\n",
       "        text-align: right;\n",
       "    }\n",
       "</style>\n",
       "<table border=\"1\" class=\"dataframe\">\n",
       "  <thead>\n",
       "    <tr style=\"text-align: right;\">\n",
       "      <th></th>\n",
       "      <th>Patron Type Code</th>\n",
       "      <th>Patron Type Definition</th>\n",
       "      <th>Total Checkouts</th>\n",
       "      <th>Total Renewals</th>\n",
       "      <th>Age Range</th>\n",
       "      <th>Home Library Code</th>\n",
       "      <th>Home Library Definition</th>\n",
       "      <th>Circulation Active Month</th>\n",
       "      <th>Circulation Active Year</th>\n",
       "      <th>Notice Preference Code</th>\n",
       "      <th>Notice Preference Definition</th>\n",
       "      <th>Provided Email Address</th>\n",
       "      <th>Year Patron Registered</th>\n",
       "      <th>Outside of County</th>\n",
       "      <th>Supervisor District</th>\n",
       "    </tr>\n",
       "  </thead>\n",
       "  <tbody>\n",
       "    <tr>\n",
       "      <th>0</th>\n",
       "      <td>3</td>\n",
       "      <td>SENIOR</td>\n",
       "      <td>28</td>\n",
       "      <td>13</td>\n",
       "      <td>65 to 74 years</td>\n",
       "      <td>X</td>\n",
       "      <td>Main Library</td>\n",
       "      <td>November</td>\n",
       "      <td>2012</td>\n",
       "      <td>z</td>\n",
       "      <td>email</td>\n",
       "      <td>True</td>\n",
       "      <td>2003</td>\n",
       "      <td>True</td>\n",
       "      <td>NaN</td>\n",
       "    </tr>\n",
       "    <tr>\n",
       "      <th>1</th>\n",
       "      <td>0</td>\n",
       "      <td>ADULT</td>\n",
       "      <td>21</td>\n",
       "      <td>10</td>\n",
       "      <td>55 to 59 years</td>\n",
       "      <td>X</td>\n",
       "      <td>Main Library</td>\n",
       "      <td>October</td>\n",
       "      <td>2015</td>\n",
       "      <td>z</td>\n",
       "      <td>email</td>\n",
       "      <td>True</td>\n",
       "      <td>2003</td>\n",
       "      <td>False</td>\n",
       "      <td>NaN</td>\n",
       "    </tr>\n",
       "    <tr>\n",
       "      <th>2</th>\n",
       "      <td>0</td>\n",
       "      <td>ADULT</td>\n",
       "      <td>275</td>\n",
       "      <td>559</td>\n",
       "      <td>60 to 64 years</td>\n",
       "      <td>X</td>\n",
       "      <td>Main Library</td>\n",
       "      <td>January</td>\n",
       "      <td>2015</td>\n",
       "      <td>z</td>\n",
       "      <td>email</td>\n",
       "      <td>True</td>\n",
       "      <td>2003</td>\n",
       "      <td>True</td>\n",
       "      <td>NaN</td>\n",
       "    </tr>\n",
       "    <tr>\n",
       "      <th>3</th>\n",
       "      <td>0</td>\n",
       "      <td>ADULT</td>\n",
       "      <td>73</td>\n",
       "      <td>38</td>\n",
       "      <td>45 to 54 years</td>\n",
       "      <td>M8</td>\n",
       "      <td>Mission Bay</td>\n",
       "      <td>February</td>\n",
       "      <td>2016</td>\n",
       "      <td>z</td>\n",
       "      <td>email</td>\n",
       "      <td>True</td>\n",
       "      <td>2003</td>\n",
       "      <td>False</td>\n",
       "      <td>NaN</td>\n",
       "    </tr>\n",
       "    <tr>\n",
       "      <th>4</th>\n",
       "      <td>0</td>\n",
       "      <td>ADULT</td>\n",
       "      <td>182</td>\n",
       "      <td>90</td>\n",
       "      <td>45 to 54 years</td>\n",
       "      <td>X</td>\n",
       "      <td>Main Library</td>\n",
       "      <td>July</td>\n",
       "      <td>2016</td>\n",
       "      <td>z</td>\n",
       "      <td>email</td>\n",
       "      <td>True</td>\n",
       "      <td>2003</td>\n",
       "      <td>False</td>\n",
       "      <td>NaN</td>\n",
       "    </tr>\n",
       "  </tbody>\n",
       "</table>\n",
       "</div>"
      ],
      "text/plain": [
       "   Patron Type Code Patron Type Definition  Total Checkouts  Total Renewals  \\\n",
       "0                 3                 SENIOR               28              13   \n",
       "1                 0                  ADULT               21              10   \n",
       "2                 0                  ADULT              275             559   \n",
       "3                 0                  ADULT               73              38   \n",
       "4                 0                  ADULT              182              90   \n",
       "\n",
       "        Age Range Home Library Code Home Library Definition  \\\n",
       "0  65 to 74 years                 X            Main Library   \n",
       "1  55 to 59 years                 X            Main Library   \n",
       "2  60 to 64 years                 X            Main Library   \n",
       "3  45 to 54 years                M8             Mission Bay   \n",
       "4  45 to 54 years                 X            Main Library   \n",
       "\n",
       "  Circulation Active Month Circulation Active Year Notice Preference Code  \\\n",
       "0                 November                    2012                      z   \n",
       "1                  October                    2015                      z   \n",
       "2                  January                    2015                      z   \n",
       "3                 February                    2016                      z   \n",
       "4                     July                    2016                      z   \n",
       "\n",
       "  Notice Preference Definition  Provided Email Address  \\\n",
       "0                        email                    True   \n",
       "1                        email                    True   \n",
       "2                        email                    True   \n",
       "3                        email                    True   \n",
       "4                        email                    True   \n",
       "\n",
       "   Year Patron Registered  Outside of County  Supervisor District  \n",
       "0                    2003               True                  NaN  \n",
       "1                    2003              False                  NaN  \n",
       "2                    2003               True                  NaN  \n",
       "3                    2003              False                  NaN  \n",
       "4                    2003              False                  NaN  "
      ]
     },
     "execution_count": 2,
     "metadata": {},
     "output_type": "execute_result"
    }
   ],
   "source": [
    "df_lib = pd.read_csv('Library_Usage.csv')\n",
    "df_lib.head()"
   ]
  },
  {
   "cell_type": "code",
   "execution_count": 3,
   "metadata": {},
   "outputs": [
    {
     "data": {
      "text/html": [
       "<div>\n",
       "<style scoped>\n",
       "    .dataframe tbody tr th:only-of-type {\n",
       "        vertical-align: middle;\n",
       "    }\n",
       "\n",
       "    .dataframe tbody tr th {\n",
       "        vertical-align: top;\n",
       "    }\n",
       "\n",
       "    .dataframe thead th {\n",
       "        text-align: right;\n",
       "    }\n",
       "</style>\n",
       "<table border=\"1\" class=\"dataframe\">\n",
       "  <thead>\n",
       "    <tr style=\"text-align: right;\">\n",
       "      <th></th>\n",
       "      <th>Patron Type Definition</th>\n",
       "      <th>Total Checkouts</th>\n",
       "      <th>Home Library Definition</th>\n",
       "    </tr>\n",
       "  </thead>\n",
       "  <tbody>\n",
       "    <tr>\n",
       "      <th>294771</th>\n",
       "      <td>ADULT</td>\n",
       "      <td>35907</td>\n",
       "      <td>Visitacion Valley</td>\n",
       "    </tr>\n",
       "    <tr>\n",
       "      <th>163107</th>\n",
       "      <td>SENIOR</td>\n",
       "      <td>25223</td>\n",
       "      <td>Main Library</td>\n",
       "    </tr>\n",
       "    <tr>\n",
       "      <th>147572</th>\n",
       "      <td>ADULT</td>\n",
       "      <td>24093</td>\n",
       "      <td>Main Library</td>\n",
       "    </tr>\n",
       "    <tr>\n",
       "      <th>199745</th>\n",
       "      <td>SENIOR</td>\n",
       "      <td>18397</td>\n",
       "      <td>Main Library</td>\n",
       "    </tr>\n",
       "    <tr>\n",
       "      <th>3204</th>\n",
       "      <td>SPECIAL</td>\n",
       "      <td>18064</td>\n",
       "      <td>Main Library</td>\n",
       "    </tr>\n",
       "  </tbody>\n",
       "</table>\n",
       "</div>"
      ],
      "text/plain": [
       "       Patron Type Definition  Total Checkouts Home Library Definition\n",
       "294771                  ADULT            35907       Visitacion Valley\n",
       "163107                 SENIOR            25223            Main Library\n",
       "147572                  ADULT            24093            Main Library\n",
       "199745                 SENIOR            18397            Main Library\n",
       "3204                  SPECIAL            18064            Main Library"
      ]
     },
     "execution_count": 3,
     "metadata": {},
     "output_type": "execute_result"
    }
   ],
   "source": [
    "df_lib = pd.DataFrame(df_lib, columns= ['Patron Type Definition','Total Checkouts', 'Home Library Definition'])\n",
    "#df_lib.sort_values(by=['Total Checkouts'], axis= 1, ascending = False, inplace = True)\n",
    "#df_lib['ID'] = df_lib.groupby(['Patron Type Definition','Total Checkouts', 'Home Library Definition']).ngroup()\n",
    "#df_lib.set_index('ID', inplace = True)\n",
    "df_lib['Total Checkouts'] = df_lib['Total Checkouts'].astype('int')\n",
    "df_lib.head(10)\n",
    "\n",
    "df_lib.sort_values(['Total Checkouts'], ascending = False, inplace = True)\n",
    "df_lib.head()\n"
   ]
  },
  {
   "cell_type": "code",
   "execution_count": 4,
   "metadata": {},
   "outputs": [
    {
     "data": {
      "text/plain": [
       "Patron Type Definition     object\n",
       "Total Checkouts             int64\n",
       "Home Library Definition    object\n",
       "dtype: object"
      ]
     },
     "execution_count": 4,
     "metadata": {},
     "output_type": "execute_result"
    }
   ],
   "source": [
    "df_lib.dtypes"
   ]
  },
  {
   "cell_type": "code",
   "execution_count": 5,
   "metadata": {},
   "outputs": [
    {
     "data": {
      "text/plain": [
       "Patron Type Definition     124814\n",
       "Total Checkouts            124814\n",
       "Home Library Definition    124814\n",
       "dtype: int64"
      ]
     },
     "execution_count": 5,
     "metadata": {},
     "output_type": "execute_result"
    }
   ],
   "source": [
    "main = df_lib[df_lib['Home Library Definition']=='Main Library']\n",
    "main.head()\n",
    "main.count()"
   ]
  },
  {
   "cell_type": "code",
   "execution_count": 6,
   "metadata": {},
   "outputs": [
    {
     "data": {
      "text/plain": [
       "(272251, 3)"
      ]
     },
     "execution_count": 6,
     "metadata": {},
     "output_type": "execute_result"
    }
   ],
   "source": [
    "df_lib_adult = df_lib[df_lib[\"Patron Type Definition\"] == 'ADULT']\n",
    "df_lib_adult.head(5)\n",
    "df_lib_adult.shape"
   ]
  },
  {
   "cell_type": "code",
   "execution_count": 7,
   "metadata": {},
   "outputs": [
    {
     "name": "stdout",
     "output_type": "stream",
     "text": [
      "Average Checkouts for Adults:  136.8599343987717 SD:  417.17927946966967\n"
     ]
    }
   ],
   "source": [
    "\n",
    "print('Average Checkouts for Adults: ', df_lib_adult[\"Total Checkouts\"].mean(), 'SD: ', np.std(df_lib_adult['Total Checkouts']))"
   ]
  },
  {
   "cell_type": "code",
   "execution_count": 8,
   "metadata": {},
   "outputs": [
    {
     "data": {
      "text/plain": [
       "(41619, 3)"
      ]
     },
     "execution_count": 8,
     "metadata": {},
     "output_type": "execute_result"
    }
   ],
   "source": [
    "df_lib_sr = df_lib[df_lib[\"Patron Type Definition\"] == 'SENIOR']\n",
    "df_lib_sr.head(10)\n",
    "df_lib_sr.shape"
   ]
  },
  {
   "cell_type": "code",
   "execution_count": 9,
   "metadata": {},
   "outputs": [
    {
     "name": "stdout",
     "output_type": "stream",
     "text": [
      "Average Checkouts for Seniors:  305.41048559552127 SD:  714.8674208393792\n"
     ]
    }
   ],
   "source": [
    "print('Average Checkouts for Seniors: ', df_lib_sr['Total Checkouts'].mean(), 'SD: ', np.std(df_lib_sr['Total Checkouts']))\n"
   ]
  },
  {
   "cell_type": "code",
   "execution_count": 10,
   "metadata": {},
   "outputs": [
    {
     "data": {
      "text/plain": [
       "(28816, 3)"
      ]
     },
     "execution_count": 10,
     "metadata": {},
     "output_type": "execute_result"
    }
   ],
   "source": [
    "df_lib_ya = df_lib[df_lib[\"Patron Type Definition\"] == 'YOUNG ADULT']\n",
    "df_lib_ya.head(5)\n",
    "df_lib_ya.shape"
   ]
  },
  {
   "cell_type": "code",
   "execution_count": 11,
   "metadata": {},
   "outputs": [
    {
     "name": "stdout",
     "output_type": "stream",
     "text": [
      "Average Checkouts for Young Adults:  237.61052887284842 SD:  481.95523587573183\n"
     ]
    }
   ],
   "source": [
    "print('Average Checkouts for Young Adults: ', df_lib_ya['Total Checkouts'].mean(), 'SD: ', np.std(df_lib_ya['Total Checkouts']))"
   ]
  },
  {
   "cell_type": "code",
   "execution_count": 12,
   "metadata": {},
   "outputs": [
    {
     "data": {
      "text/plain": [
       "(59208, 3)"
      ]
     },
     "execution_count": 12,
     "metadata": {},
     "output_type": "execute_result"
    }
   ],
   "source": [
    "df_lib_j = df_lib[df_lib[\"Patron Type Definition\"] == 'JUVENILE']\n",
    "df_lib_j.head(5)\n",
    "df_lib_j.shape"
   ]
  },
  {
   "cell_type": "code",
   "execution_count": 13,
   "metadata": {},
   "outputs": [
    {
     "name": "stdout",
     "output_type": "stream",
     "text": [
      "Average Checkouts for Juveniles:  172.11849750033778 SD:  353.2629445457718\n"
     ]
    }
   ],
   "source": [
    "print('Average Checkouts for Juveniles: ', df_lib_j['Total Checkouts'].mean(),'SD: ', np.std(df_lib_j['Total Checkouts']))"
   ]
  },
  {
   "cell_type": "code",
   "execution_count": 14,
   "metadata": {},
   "outputs": [],
   "source": [
    "data = [[172,238,137,305]]\n",
    "df_avg = pd.DataFrame(data, columns = ['Juveniles','Young Adults','Adults', 'Seniors'])\n"
   ]
  },
  {
   "cell_type": "code",
   "execution_count": 15,
   "metadata": {},
   "outputs": [
    {
     "data": {
      "image/png": "[encoded data removed]",
      "text/plain": [
       "<Figure size 720x360 with 1 Axes>"
      ]
     },
     "metadata": {
      "needs_background": "light"
     },
     "output_type": "display_data"
    }
   ],
   "source": [
    "import matplotlib.pyplot as plt\n",
    "\n",
    "df_avg.plot(kind = 'bar', figsize = (10,5))\n",
    "plt.title('Book Checkouts by Age Group')\n",
    "plt.ylabel('Average Total Checkouts')\n",
    "plt.tick_params(\n",
    "   axis='x',          # changes apply to the x-axis\n",
    "   which='both',      # both major and minor ticks are affected\n",
    "   bottom=False,      # ticks along the bottom edge are off\n",
    "    top=False,         # ticks along the top edge are off\n",
    "    labelbottom=False)"
   ]
  },
  {
   "cell_type": "code",
   "execution_count": 16,
   "metadata": {},
   "outputs": [
    {
     "data": {
      "text/html": [
       "<div>\n",
       "<style scoped>\n",
       "    .dataframe tbody tr th:only-of-type {\n",
       "        vertical-align: middle;\n",
       "    }\n",
       "\n",
       "    .dataframe tbody tr th {\n",
       "        vertical-align: top;\n",
       "    }\n",
       "\n",
       "    .dataframe thead th {\n",
       "        text-align: right;\n",
       "    }\n",
       "</style>\n",
       "<table border=\"1\" class=\"dataframe\">\n",
       "  <thead>\n",
       "    <tr style=\"text-align: right;\">\n",
       "      <th></th>\n",
       "      <th>Patron Type Definition</th>\n",
       "      <th>Total Checkouts</th>\n",
       "      <th>Home Library Definition</th>\n",
       "    </tr>\n",
       "  </thead>\n",
       "  <tbody>\n",
       "    <tr>\n",
       "      <th>294771</th>\n",
       "      <td>ADULT</td>\n",
       "      <td>35907</td>\n",
       "      <td>Visitacion Valley</td>\n",
       "    </tr>\n",
       "    <tr>\n",
       "      <th>163107</th>\n",
       "      <td>SENIOR</td>\n",
       "      <td>25223</td>\n",
       "      <td>Main Library</td>\n",
       "    </tr>\n",
       "    <tr>\n",
       "      <th>147572</th>\n",
       "      <td>ADULT</td>\n",
       "      <td>24093</td>\n",
       "      <td>Main Library</td>\n",
       "    </tr>\n",
       "    <tr>\n",
       "      <th>199745</th>\n",
       "      <td>SENIOR</td>\n",
       "      <td>18397</td>\n",
       "      <td>Main Library</td>\n",
       "    </tr>\n",
       "    <tr>\n",
       "      <th>156043</th>\n",
       "      <td>ADULT</td>\n",
       "      <td>17308</td>\n",
       "      <td>Main Library</td>\n",
       "    </tr>\n",
       "  </tbody>\n",
       "</table>\n",
       "</div>"
      ],
      "text/plain": [
       "       Patron Type Definition  Total Checkouts Home Library Definition\n",
       "294771                  ADULT            35907       Visitacion Valley\n",
       "163107                 SENIOR            25223            Main Library\n",
       "147572                  ADULT            24093            Main Library\n",
       "199745                 SENIOR            18397            Main Library\n",
       "156043                  ADULT            17308            Main Library"
      ]
     },
     "execution_count": 16,
     "metadata": {},
     "output_type": "execute_result"
    }
   ],
   "source": [
    "df_special = df_lib[df_lib['Patron Type Definition'] == 'SPECIAL']\n",
    "df_1= df_lib.drop(df_special.index, axis=0)\n",
    "#df_1\n",
    "df_welcome = df_lib[df_lib['Patron Type Definition'] == 'AT USER SENIOR']\n",
    "df_2=df_1.drop(df_welcome.index, axis=0)\n",
    "#df_2\n",
    "df_tc = df_lib[df_lib['Patron Type Definition'] == 'TEACHER CARD']\n",
    "df_3=df_2.drop(df_tc.index, axis=0)\n",
    "#df_3\n",
    "df_vis = df_lib[df_lib['Patron Type Definition'] == 'VISITOR']\n",
    "df_4=df_3.drop(df_vis.index, axis=0)\n",
    "#df_4\n",
    "df_7c = df_lib[df_lib['Patron Type Definition'] == 'DIGITAL ACCESS CARD']\n",
    "df_5=df_4.drop(df_7c.index, axis=0)\n",
    "#df_5\n",
    "df_ata = df_lib[df_lib['Patron Type Definition'] == 'AT USER ADULT']\n",
    "df_6=df_5.drop(df_ata.index, axis=0)\n",
    "#df_6\n",
    "df_att = df_lib[df_lib['Patron Type Definition'] == 'AT USER TEEN']\n",
    "df_7=df_6.drop(df_att.index, axis=0)\n",
    "#df_7\n",
    "df_aw = df_lib[df_lib['Patron Type Definition'] == 'AT USER WELCOME']\n",
    "df_8=df_7.drop(df_aw.index, axis=0)\n",
    "#df_8\n",
    "df_ffl = df_lib[df_lib['Patron Type Definition'] == 'FRIENDS FOR LIFE']\n",
    "df_9=df_8.drop(df_ffl.index, axis=0)\n",
    "#df_9\n",
    "df_bbm = df_lib[df_lib['Patron Type Definition'] == 'BOOKS BY MAIL']\n",
    "df_10=df_9.drop(df_bbm.index, axis=0)\n",
    "#df_10\n",
    "df_atj = df_lib[df_lib['Patron Type Definition'] == 'AT USER JUVENILE']\n",
    "df_11=df_10.drop(df_atj.index, axis=0)\n",
    "#df_11\n",
    "df_staff = df_lib[df_lib['Patron Type Definition'] == 'STAFF']\n",
    "df_12=df_11.drop(df_staff.index, axis=0)\n",
    "#df_12\n",
    "df_ret = df_lib[df_lib['Patron Type Definition'] == 'RETIRED STAFF']\n",
    "df_13=df_12.drop(df_ret.index, axis=0)\n",
    "df_13.head()"
   ]
  },
  {
   "cell_type": "code",
   "execution_count": 17,
   "metadata": {},
   "outputs": [
    {
     "data": {
      "text/html": [
       "<div>\n",
       "<style scoped>\n",
       "    .dataframe tbody tr th:only-of-type {\n",
       "        vertical-align: middle;\n",
       "    }\n",
       "\n",
       "    .dataframe tbody tr th {\n",
       "        vertical-align: top;\n",
       "    }\n",
       "\n",
       "    .dataframe thead th {\n",
       "        text-align: right;\n",
       "    }\n",
       "</style>\n",
       "<table border=\"1\" class=\"dataframe\">\n",
       "  <thead>\n",
       "    <tr style=\"text-align: right;\">\n",
       "      <th></th>\n",
       "      <th>Patron Type Definition</th>\n",
       "      <th>Total Checkouts</th>\n",
       "      <th>Home Library Definition</th>\n",
       "    </tr>\n",
       "  </thead>\n",
       "  <tbody>\n",
       "    <tr>\n",
       "      <th>294771</th>\n",
       "      <td>ADULT</td>\n",
       "      <td>35907</td>\n",
       "      <td>Visitacion Valley</td>\n",
       "    </tr>\n",
       "    <tr>\n",
       "      <th>163107</th>\n",
       "      <td>SENIOR</td>\n",
       "      <td>25223</td>\n",
       "      <td>Main Library</td>\n",
       "    </tr>\n",
       "    <tr>\n",
       "      <th>147572</th>\n",
       "      <td>ADULT</td>\n",
       "      <td>24093</td>\n",
       "      <td>Main Library</td>\n",
       "    </tr>\n",
       "    <tr>\n",
       "      <th>199745</th>\n",
       "      <td>SENIOR</td>\n",
       "      <td>18397</td>\n",
       "      <td>Main Library</td>\n",
       "    </tr>\n",
       "    <tr>\n",
       "      <th>156043</th>\n",
       "      <td>ADULT</td>\n",
       "      <td>17308</td>\n",
       "      <td>Main Library</td>\n",
       "    </tr>\n",
       "  </tbody>\n",
       "</table>\n",
       "</div>"
      ],
      "text/plain": [
       "       Patron Type Definition  Total Checkouts Home Library Definition\n",
       "294771                  ADULT            35907       Visitacion Valley\n",
       "163107                 SENIOR            25223            Main Library\n",
       "147572                  ADULT            24093            Main Library\n",
       "199745                 SENIOR            18397            Main Library\n",
       "156043                  ADULT            17308            Main Library"
      ]
     },
     "execution_count": 17,
     "metadata": {},
     "output_type": "execute_result"
    }
   ],
   "source": [
    "df_wel = df_lib[df_lib['Patron Type Definition'] == 'WELCOME']\n",
    "df_final=df_13.drop(df_wel.index, axis=0)\n",
    "df_final.head()"
   ]
  },
  {
   "cell_type": "code",
   "execution_count": 18,
   "metadata": {},
   "outputs": [
    {
     "data": {
      "text/plain": [
       "array(['ADULT', 'SENIOR', 'YOUNG ADULT', 'JUVENILE'], dtype=object)"
      ]
     },
     "execution_count": 18,
     "metadata": {},
     "output_type": "execute_result"
    }
   ],
   "source": [
    "df_final['Patron Type Definition'].unique()\n"
   ]
  },
  {
   "cell_type": "code",
   "execution_count": 19,
   "metadata": {},
   "outputs": [
    {
     "data": {
      "text/plain": [
       "array(['Visitacion Valley', 'Main Library', 'Chinatown',\n",
       "       'Eureka Valley/Harvey Milk Memorial', 'Merced', 'Ortega',\n",
       "       'Richmond', 'Sunset', 'Mission', 'Park', 'West Portal',\n",
       "       'North Beach', 'Parkside', 'Glen Park', 'Marina',\n",
       "       'Bayview/Linda Brooks-Burton', 'Mission Bay', 'Excelsior',\n",
       "       'Ingleside', 'Portola', 'Noe Valley/Sally Brunn', 'Anza',\n",
       "       'Presidio', 'Unknown', 'Golden Gate Valley', 'Bernal Heights',\n",
       "       'Ocean View', 'Western Addition', 'Potrero', 'Library on Wheels',\n",
       "       \"Children's Bookmobile\", 'Branch Bookmobile (West Portal)',\n",
       "       'Branch Bookmobile (Excelsior)', 'Branch Bookmobile (Sunset)',\n",
       "       'Branch Bookmobile (Marina)'], dtype=object)"
      ]
     },
     "execution_count": 19,
     "metadata": {},
     "output_type": "execute_result"
    }
   ],
   "source": [
    "df_final['Home Library Definition'].unique()"
   ]
  },
  {
   "cell_type": "code",
   "execution_count": 20,
   "metadata": {},
   "outputs": [
    {
     "data": {
      "text/html": [
       "<div>\n",
       "<style scoped>\n",
       "    .dataframe tbody tr th:only-of-type {\n",
       "        vertical-align: middle;\n",
       "    }\n",
       "\n",
       "    .dataframe tbody tr th {\n",
       "        vertical-align: top;\n",
       "    }\n",
       "\n",
       "    .dataframe thead th {\n",
       "        text-align: right;\n",
       "    }\n",
       "</style>\n",
       "<table border=\"1\" class=\"dataframe\">\n",
       "  <thead>\n",
       "    <tr style=\"text-align: right;\">\n",
       "      <th></th>\n",
       "      <th>ADULT</th>\n",
       "      <th>JUVENILE</th>\n",
       "      <th>SENIOR</th>\n",
       "      <th>YOUNG ADULT</th>\n",
       "    </tr>\n",
       "  </thead>\n",
       "  <tbody>\n",
       "    <tr>\n",
       "      <th>294771</th>\n",
       "      <td>1</td>\n",
       "      <td>0</td>\n",
       "      <td>0</td>\n",
       "      <td>0</td>\n",
       "    </tr>\n",
       "    <tr>\n",
       "      <th>163107</th>\n",
       "      <td>0</td>\n",
       "      <td>0</td>\n",
       "      <td>1</td>\n",
       "      <td>0</td>\n",
       "    </tr>\n",
       "    <tr>\n",
       "      <th>147572</th>\n",
       "      <td>1</td>\n",
       "      <td>0</td>\n",
       "      <td>0</td>\n",
       "      <td>0</td>\n",
       "    </tr>\n",
       "    <tr>\n",
       "      <th>199745</th>\n",
       "      <td>0</td>\n",
       "      <td>0</td>\n",
       "      <td>1</td>\n",
       "      <td>0</td>\n",
       "    </tr>\n",
       "    <tr>\n",
       "      <th>156043</th>\n",
       "      <td>1</td>\n",
       "      <td>0</td>\n",
       "      <td>0</td>\n",
       "      <td>0</td>\n",
       "    </tr>\n",
       "  </tbody>\n",
       "</table>\n",
       "</div>"
      ],
      "text/plain": [
       "        ADULT  JUVENILE  SENIOR  YOUNG ADULT\n",
       "294771      1         0       0            0\n",
       "163107      0         0       1            0\n",
       "147572      1         0       0            0\n",
       "199745      0         0       1            0\n",
       "156043      1         0       0            0"
      ]
     },
     "execution_count": 20,
     "metadata": {},
     "output_type": "execute_result"
    }
   ],
   "source": [
    "df_dummy = pd.get_dummies(df_final['Patron Type Definition'])\n",
    "df_dummy.head()"
   ]
  },
  {
   "cell_type": "code",
   "execution_count": 24,
   "metadata": {},
   "outputs": [
    {
     "name": "stdout",
     "output_type": "stream",
     "text": [
      "[[1 0 0 0]\n",
      " [0 0 1 0]\n",
      " [1 0 0 0]\n",
      " ...\n",
      " [1 0 0 0]\n",
      " [1 0 0 0]\n",
      " [1 0 0 0]] [35907 25223 24093 ...     0     0     0]\n"
     ]
    }
   ],
   "source": [
    "X = np.asarray(df_dummy[['ADULT', 'JUVENILE','SENIOR','YOUNG ADULT']])\n",
    "y = np.asarray(df_final['Total Checkouts'])\n",
    "print(X, y)"
   ]
  },
  {
   "cell_type": "code",
   "execution_count": 25,
   "metadata": {},
   "outputs": [
    {
     "name": "stderr",
     "output_type": "stream",
     "text": [
      "/home/jupyterlab/conda/envs/python/lib/python3.6/site-packages/sklearn/utils/validation.py:595: DataConversionWarning: Data with input dtype uint8 was converted to float64 by the scale function.\n",
      "  warnings.warn(msg, DataConversionWarning)\n"
     ]
    }
   ],
   "source": [
    "from sklearn.preprocessing import scale\n",
    "from sklearn.model_selection import train_test_split\n",
    "X = scale(X)\n",
    "X_train, X_test, y_train, y_test = train_test_split(\n",
    "        X, y, train_size=0.75, test_size=0.25, random_state=4, shuffle=True)"
   ]
  },
  {
   "cell_type": "code",
   "execution_count": null,
   "metadata": {},
   "outputs": [
    {
     "name": "stderr",
     "output_type": "stream",
     "text": [
      "/home/jupyterlab/conda/envs/python/lib/python3.6/site-packages/sklearn/linear_model/logistic.py:460: FutureWarning: Default multi_class will be changed to 'auto' in 0.22. Specify the multi_class option to silence this warning.\n",
      "  \"this warning.\", FutureWarning)\n"
     ]
    }
   ],
   "source": [
    "from sklearn.linear_model import LogisticRegression\n",
    "from sklearn.metrics import accuracy_score\n",
    "logreg = LogisticRegression(solver='lbfgs')\n",
    "logreg.fit(X_train,y_train)\n",
    "y_pred = logreg.predict(X_train)\n",
    "print('Train accuracy score:',accuracy_score(y_train,y_pred))\n",
    "print('Test accuracy score:', accuracy_score(y_test,logreg.predict(X_test)))"
   ]
  },
  {
   "cell_type": "code",
   "execution_count": null,
   "metadata": {},
   "outputs": [],
   "source": []
  }
 ],
 "metadata": {
  "kernelspec": {
   "display_name": "Python",
   "language": "python",
   "name": "conda-env-python-py"
  },
  "language_info": {
   "codemirror_mode": {
    "name": "ipython",
    "version": 3
   },
   "file_extension": ".py",
   "mimetype": "text/x-python",
   "name": "python",
   "nbconvert_exporter": "python",
   "pygments_lexer": "ipython3",
   "version": "3.6.10"
  }
 },
 "nbformat": 4,
 "nbformat_minor": 4
}
